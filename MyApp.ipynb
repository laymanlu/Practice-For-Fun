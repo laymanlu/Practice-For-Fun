{
 "cells": [
  {
   "cell_type": "code",
   "execution_count": 4,
   "metadata": {},
   "outputs": [],
   "source": [
    "import kivy\n",
    "from kivy.app import App\n",
    "from kivy.uix.label import Label\n",
    "from kivy.uix.gridlayout import GridLayout\n",
    "from kivy.uix.textinput import TextInput\n",
    "from kivy.uix.button import Button\n",
    "from kivy.uix.widget import Widget\n"
   ]
  },
  {
   "cell_type": "code",
   "execution_count": 7,
   "metadata": {},
   "outputs": [],
   "source": [
    "class MyGrid(GridLayout):\n",
    "    def __init__(self, **kwargs):\n",
    "        super(MyGrid, self).__init__(**kwargs)\n",
    "        self.cols = 1\n",
    "        \n",
    "        self.inside = GridLayout()\n",
    "        self.inside.cols = 2\n",
    "        \n",
    "        self.inside.add_widget(Label(text=\"First Name: \"))\n",
    "        self.name = TextInput(multiline=False)\n",
    "        self.inside.add_widget(self.name)\n",
    "        \n",
    "        self.inside.add_widget(Label(text=\"Last Name: \"))\n",
    "        self.lastname = TextInput(multiline=False)\n",
    "        self.inside.add_widget(self.lastname)\n",
    "        \n",
    "        self.inside.add_widget(Label(text=\"Email: \"))\n",
    "        self.email = TextInput(multiline=False)\n",
    "        self.inside.add_widget(self.email)\n",
    "        \n",
    "        self.add_widget(self.inside)\n",
    "        \n",
    "        \n",
    "        self.submit = Button(text=\"Submit\", font_size=40)\n",
    "        self.submit.bind(on_press=self.pressed)\n",
    "        self.add_widget(self.submit)\n",
    "        \n",
    "    def pressed(self, instance):\n",
    "        name = self.name.text\n",
    "        last = self.lastname.text\n",
    "        email = self.email.text\n",
    "        \n",
    "        print('Name:', name, 'Last Name:', last, 'Email: ', email)\n",
    "        self.name.text = ''\n",
    "        self.lastname.text = ''\n",
    "        self.email.text = ''\n",
    "        \n",
    "\n",
    "class MyApp(App):\n",
    "    def build(self):\n",
    "        return MyGrid()\n",
    "    \n",
    "if __name__ == \"__main__\":\n",
    "    MyApp().run()\n",
    "    \n",
    "    \n",
    "    \n",
    "    "
   ]
  },
  {
   "cell_type": "code",
   "execution_count": null,
   "metadata": {},
   "outputs": [],
   "source": []
  }
 ],
 "metadata": {
  "kernelspec": {
   "display_name": "Python 3",
   "language": "python",
   "name": "python3"
  },
  "language_info": {
   "codemirror_mode": {
    "name": "ipython",
    "version": 3
   },
   "file_extension": ".py",
   "mimetype": "text/x-python",
   "name": "python",
   "nbconvert_exporter": "python",
   "pygments_lexer": "ipython3",
   "version": "3.7.4"
  }
 },
 "nbformat": 4,
 "nbformat_minor": 2
}
