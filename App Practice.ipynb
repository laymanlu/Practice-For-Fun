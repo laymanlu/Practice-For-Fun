{
 "cells": [
  {
   "cell_type": "code",
   "execution_count": 1,
   "metadata": {},
   "outputs": [
    {
     "name": "stderr",
     "output_type": "stream",
     "text": [
      "[INFO   ] [Logger      ] Record log in /Users/lukelayman/.kivy/logs/kivy_20-10-04_5.txt\n",
      "[INFO   ] [Kivy        ] v1.11.1\n",
      "[INFO   ] [Kivy        ] Installed at \"/Users/lukelayman/opt/anaconda3/lib/python3.7/site-packages/kivy/__init__.py\"\n",
      "[INFO   ] [Python      ] v3.7.4 (default, Aug 13 2019, 15:17:50) \n",
      "[Clang 4.0.1 (tags/RELEASE_401/final)]\n",
      "[INFO   ] [Python      ] Interpreter at \"/Users/lukelayman/opt/anaconda3/bin/python\"\n",
      "[INFO   ] [Factory     ] 184 symbols loaded\n",
      "[INFO   ] [Image       ] Providers: img_tex, img_imageio, img_dds, img_sdl2, img_pil, img_gif (img_ffpyplayer ignored)\n",
      "[INFO   ] [Text        ] Provider: sdl2\n",
      "[INFO   ] [Window      ] Provider: sdl2\n",
      "[INFO   ] [GL          ] Using the \"OpenGL ES 2\" graphics system\n",
      "[INFO   ] [GL          ] Backend used <sdl2>\n",
      "[INFO   ] [GL          ] OpenGL version <b'2.1 INTEL-14.7.8'>\n",
      "[INFO   ] [GL          ] OpenGL vendor <b'Intel Inc.'>\n",
      "[INFO   ] [GL          ] OpenGL renderer <b'Intel(R) HD Graphics 6000'>\n",
      "[INFO   ] [GL          ] OpenGL parsed version: 2, 1\n",
      "[INFO   ] [GL          ] Shading version <b'1.20'>\n",
      "[INFO   ] [GL          ] Texture max size <16384>\n",
      "[INFO   ] [GL          ] Texture max units <16>\n",
      "[INFO   ] [Window      ] auto add sdl2 input provider\n",
      "[INFO   ] [Window      ] virtual keyboard not allowed, single mode, not docked\n",
      "[INFO   ] [Base        ] Start application main loop\n",
      "[INFO   ] [GL          ] NPOT texture support is available\n",
      "[INFO   ] [Base        ] Leaving application in progress...\n",
      "[INFO   ] [WindowSDL   ] exiting mainloop and closing.\n"
     ]
    }
   ],
   "source": [
    "import kivy\n",
    "from kivy.app import App\n",
    "from kivy.uix.label import Label\n",
    "from kivy.uix.gridlayout import GridLayout\n",
    "from kivy.uix.textinput import TextInput\n",
    "from kivy.uix.button import Button\n"
   ]
  },
  {
   "cell_type": "code",
   "execution_count": 2,
   "metadata": {},
   "outputs": [
    {
     "name": "stdout",
     "output_type": "stream",
     "text": [
      "Name: Lou\t Last Name: Lay Email:  lay@fuckery.org\n",
      "Name: Lou\t Last Name: Lay Email:  lay@fuckery.org\n"
     ]
    }
   ],
   "source": [
    "class MyGrid(GridLayout):\n",
    "    def __init__(self, **kwargs):\n",
    "        super(MyGrid, self).__init__(**kwargs)\n",
    "        self.cols = 1\n",
    "        \n",
    "        self.inside = GridLayout()\n",
    "        self.inside.cols = 2\n",
    "        \n",
    "        self.inside.add_widget(Label(text=\"First Name: \"))\n",
    "        self.name = TextInput(multiline=False)\n",
    "        self.inside.add_widget(self.name)\n",
    "        \n",
    "        self.inside.add_widget(Label(text=\"Last Name: \"))\n",
    "        self.lastname = TextInput(multiline=False)\n",
    "        self.inside.add_widget(self.lastname)\n",
    "        \n",
    "        self.inside.add_widget(Label(text=\"Email: \"))\n",
    "        self.email = TextInput(multiline=False)\n",
    "        self.inside.add_widget(self.email)\n",
    "        \n",
    "        self.add_widget(self.inside)\n",
    "        \n",
    "        \n",
    "        self.submit = Button(text=\"Submit\", font_size=40)\n",
    "        self.submit.bind(on_press=self.pressed)\n",
    "        self.add_widget(self.submit)\n",
    "        \n",
    "    def pressed(self, instance):\n",
    "        name = self.name.text\n",
    "        last = self.lastname.text\n",
    "        email = self.email.text\n",
    "        \n",
    "        print('Name:', name, 'Last Name:', last, 'Email: ', email)\n",
    "        self.name.text = ''\n",
    "        self.lastname.text = ''\n",
    "        self.email.text = ''\n",
    "        \n",
    "\n",
    "class MyApp(App):\n",
    "    def build(self):\n",
    "        return MyGrid()\n",
    "    \n",
    "if __name__ == \"__main__\":\n",
    "    MyApp().run()\n",
    "    \n",
    "    \n",
    "    \n",
    "    "
   ]
  },
  {
   "cell_type": "code",
   "execution_count": null,
   "metadata": {},
   "outputs": [],
   "source": []
  },
  {
   "cell_type": "code",
   "execution_count": null,
   "metadata": {},
   "outputs": [],
   "source": [
    "class MyGrid(GridLayout):\n",
    "    pass\n",
    "        \n",
    "\n",
    "    \n",
    "class MyApp(App):\n",
    "    def build(self):\n",
    "        return MyGrid()\n",
    "    \n",
    "    \n",
    "if __name__ == \"__main__\":\n",
    "    MyApp().run()"
   ]
  },
  {
   "cell_type": "code",
   "execution_count": null,
   "metadata": {},
   "outputs": [],
   "source": []
  },
  {
   "cell_type": "code",
   "execution_count": null,
   "metadata": {},
   "outputs": [],
   "source": []
  },
  {
   "cell_type": "code",
   "execution_count": null,
   "metadata": {},
   "outputs": [],
   "source": []
  }
 ],
 "metadata": {
  "kernelspec": {
   "display_name": "Python 3",
   "language": "python",
   "name": "python3"
  },
  "language_info": {
   "codemirror_mode": {
    "name": "ipython",
    "version": 3
   },
   "file_extension": ".py",
   "mimetype": "text/x-python",
   "name": "python",
   "nbconvert_exporter": "python",
   "pygments_lexer": "ipython3",
   "version": "3.7.4"
  }
 },
 "nbformat": 4,
 "nbformat_minor": 2
}
