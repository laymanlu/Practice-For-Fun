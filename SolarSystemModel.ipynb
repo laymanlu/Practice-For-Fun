{
 "cells": [
  {
   "cell_type": "markdown",
   "metadata": {},
   "source": [
    "# Solar System Model"
   ]
  },
  {
   "cell_type": "markdown",
   "metadata": {},
   "source": [
    "## Luke Layman"
   ]
  },
  {
   "cell_type": "markdown",
   "metadata": {},
   "source": [
    "### Importing packages"
   ]
  },
  {
   "cell_type": "code",
   "execution_count": 2,
   "metadata": {},
   "outputs": [],
   "source": [
    "import numpy as np\n",
    "import pandas as pd\n",
    "from math import *\n",
    "import matplotlib.pyplot as plt\n",
    "%matplotlib inline"
   ]
  },
  {
   "cell_type": "markdown",
   "metadata": {},
   "source": [
    "### Setting up varibles"
   ]
  },
  {
   "cell_type": "code",
   "execution_count": 5,
   "metadata": {},
   "outputs": [],
   "source": [
    "DeltaT = 0.01\n",
    "#set up arrays \n",
    "tfinal = 100\n",
    "n = ceil(tfinal/DeltaT)\n",
    "\n",
    "#Masses\n",
    "M_sun = 2 * 10**30 #kg\n",
    "M_ear = 6 * 10**24 #kg\n",
    "M_jup = 1.9 * 10**27 #kg\n",
    "M_mar = 6.6 * 10**23 #kg\n",
    "M_ven = 4.9 * 10**24 #kg\n",
    "M_sat = 5.5 * 10**26 #kg\n",
    "M_mer = 3.3 * 10**23 #kg\n",
    "M_ura = 8.8 * 10**25 #kg\n",
    "M_nep = 1.03 * 10**26 #kg\n",
    "M_plu = 1.31 * 10**22 #kg\n",
    "\n",
    "# 4pi^2 constant\n",
    "Fourpi2 = 4*pi*pi\n",
    "\n",
    "# set up array for t\n",
    "t = np.zeros(n)\n",
    "\n",
    "# intial conditions for each planet\n",
    "#earth\n",
    "v_ear = np.zeros((n,2))\n",
    "r_ear = np.zeros((n,2))\n",
    "#conditions\n",
    "r0_ear = np.array([1.0,0.0])\n",
    "v0_ear = np.array([0.0,2*pi])\n",
    "r_ear[0] = r0_ear\n",
    "v_ear[0] = v0_ear\n",
    "\n",
    "#jupiter\n",
    "v_jup = np.zeros((n,2))\n",
    "r_jup = np.zeros((n,2))\n",
    "#conditions\n",
    "r0_jup = np.array([1.23,-5.04])\n",
    "v0_jup = np.array([(7.24*10**-3)*365,(2.14*10**-3)*365])\n",
    "r_jup[0] = r0_jup\n",
    "v_jup[0] = v0_jup\n",
    "\n",
    "#mars\n",
    "v_mar = np.zeros((n,2))\n",
    "r_mar = np.zeros((n,2))\n",
    "#conditions\n",
    "r0_mar = np.array([-1.69*10**-1,-1.45])\n",
    "v0_mar = np.array([(1.44*10**-2)*365,(-2.37*10**-4)*365])\n",
    "r_mar[0] = r0_mar\n",
    "v_mar[0] = v0_mar\n",
    "\n",
    "#venus\n",
    "v_ven = np.zeros((n,2))\n",
    "r_ven = np.zeros((n,2))\n",
    "#conditions\n",
    "r0_ven = np.array([-6.74*10**-1,2.66*10**-1])\n",
    "v0_ven = np.array([(-7.39*10**-3)*365,(-1.89*10**-2)*365])\n",
    "r_ven[0] = r0_ven\n",
    "v_ven[0] = v0_ven\n",
    "\n",
    "#saturn\n",
    "v_sat = np.zeros((n,2))\n",
    "r_sat = np.zeros((n,2))\n",
    "#conditions\n",
    "r0_sat = np.array([4.25,-9.07])\n",
    "v0_sat = np.array([(4.74*10**-3)*365,(2.35*10**-3)*365])\n",
    "r_sat[0] = r0_sat\n",
    "v_sat[0] = v0_sat\n",
    "\n",
    "#mercury\n",
    "v_mer = np.zeros((n,2))\n",
    "r_mer = np.zeros((n,2))\n",
    "#conditions\n",
    "r0_mer = np.array([1.32*10**-1,-4.19*10**-1])\n",
    "v0_mer = np.array([(2.11*10**-2)*365,(1.00*10**-2)*365])\n",
    "r_mer[0] = r0_mer\n",
    "v_mer[0] = v0_mer\n",
    "\n",
    "#uranus\n",
    "v_ura = np.zeros((n,2))\n",
    "r_ura = np.zeros((n,2))\n",
    "#conditions\n",
    "r0_ura = np.array([1.599*10**1,1.17*10**1])\n",
    "v0_ura = np.array([(-2.35*10**-3)*365,(2.99*10**-3)*365])\n",
    "r_ura[0] = r0_ura\n",
    "v_ura[0] = v0_ura\n",
    "\n",
    "#neptune\n",
    "v_nep = np.zeros((n,2))\n",
    "r_nep = np.zeros((n,2))\n",
    "#conditions\n",
    "r0_nep = np.array([2.93*10**1,-6.06])\n",
    "v0_nep = np.array([(6.15*10**-4)*365,(3.09*10**-3)*365])\n",
    "r_nep[0] = r0_nep\n",
    "v_nep[0] = v0_nep\n",
    "\n",
    "#pluto\n",
    "v_plu = np.zeros((n,2))\n",
    "r_plu = np.zeros((n,2))\n",
    "#conditions\n",
    "r0_plu = np.array([1.33*10**1,-3.13*10**1])\n",
    "v0_plu = np.array([(2.96*10**-3)*365,(5.602*10**-4)*365])\n",
    "r_plu[0] = r0_plu\n",
    "v_plu[0] = v0_plu\n",
    "\n",
    "\n",
    "#planet lists to looping:\n",
    "mass_list = [M_ear, M_mer, M_mar, M_ven, M_sat, M_jup, M_ura, M_nep, M_plu]\n",
    "pos_list = [r_ear, r_mer, r_mar, r_ven, r_sat, r_jup, r_ura, r_nep, r_plu]\n",
    "vel_list = [v_ear, v_mer, v_mar, v_ven, v_sat, v_jup, v_ura, v_nep, v_plu]"
   ]
  },
  {
   "cell_type": "markdown",
   "metadata": {},
   "source": [
    "### Function solving for position"
   ]
  },
  {
   "cell_type": "code",
   "execution_count": 6,
   "metadata": {},
   "outputs": [],
   "source": [
    "for p in range(9):\n",
    "    \n",
    "    #pick one planet to do all calculations for\n",
    "    one_mass = mass_list[p]\n",
    "    one_r = pos_list[p]\n",
    "    one_v = vel_list[p]\n",
    "    \n",
    "    #resetting time to 0\n",
    "    t = np.zeros(n)\n",
    "    \n",
    "    #looping through all planets\n",
    "    for l in range(9):\n",
    "        if p != l:\n",
    "            two_mass = mass_list[l]\n",
    "            two_r = pos_list[l]\n",
    "            two_v = vel_list[l]\n",
    "    \n",
    "    # Start integrating using the Velocity-Verlet  method\n",
    "            for i in range(n-1):\n",
    "    \n",
    "            #finding compenents for acceleration\n",
    "                rabs_one = sqrt(sum(one_r[i]*one_r[i]))\n",
    "                rabs = sqrt( (one_r[i][0] - two_r[i][0])**2 + (one_r[i][1] - two_r[i][1])**2 )\n",
    "    \n",
    "            #acceleration\n",
    "                a_one = (-Fourpi2*one_r[i]/(rabs_one**3)) - (Fourpi2*(two_mass/M_sun)/(rabs**3))*(one_r[i] - two_r[i])\n",
    "    \n",
    "            #position\n",
    "                one_r[i+1] = one_r[i] + DeltaT*one_v[i]+0.5*(DeltaT**2)*a_one\n",
    "    \n",
    "            #updating compoenets for accerleration\n",
    "                rabs_one = sqrt(sum(one_r[i+1]*one_r[i+1]))\n",
    "                rabs = sqrt((one_r[i+1][0] - two_r[i+1][0])**2 + (one_r[i+1][1] - two_r[i+1][1])**2)\n",
    "    \n",
    "            #new accerlration\n",
    "                anew_one = -4*(pi**2)*one_r[i+1]/(rabs_one**3) - (Fourpi2*(two_mass/M_sun)/(rabs**3))*(one_r[i+1] - two_r[i+1])\n",
    "                \n",
    "            #velocity\n",
    "                one_v[i+1] = one_v[i] + 0.5*DeltaT*(a_one+anew_one)\n",
    "    \n",
    "            #time\n",
    "                t[i+1] = t[i] + DeltaT"
   ]
  },
  {
   "cell_type": "markdown",
   "metadata": {},
   "source": [
    "### Plotting Results"
   ]
  },
  {
   "cell_type": "code",
   "execution_count": 7,
   "metadata": {},
   "outputs": [
    {
     "data": {
      "image/png": "[encoded data removed]",
      "text/plain": [
       "<Figure size 432x288 with 1 Axes>"
      ]
     },
     "metadata": {
      "needs_background": "light"
     },
     "output_type": "display_data"
    }
   ],
   "source": [
    "# Plot position as function of time    \n",
    "fig, ax = plt.subplots()\n",
    "ax.set_ylabel('x[AU]')\n",
    "ax.set_xlabel('y[AU]')\n",
    "ax.plot(r_ear[:,0], r_ear[:,1], label='Earth')\n",
    "ax.plot(r_jup[:,0], r_jup[:,1], label='Jupiter')\n",
    "ax.plot(r_mar[:,0], r_mar[:,1], label='Mars')\n",
    "ax.plot(r_ven[:,0], r_ven[:,1], label='Venus')\n",
    "ax.plot(r_mer[:,0], r_mer[:,1], label='Mercury')\n",
    "ax.plot(r_sat[:,0], r_sat[:,1], label='Saturn')\n",
    "ax.plot(r_ura[:,0], r_ura[:,1], label='Uranus')\n",
    "ax.plot(r_nep[:,0], r_nep[:,1], label='Neptune')\n",
    "ax.plot(r_plu[:,0], r_plu[:,1], label='Pluto')\n",
    "plt.title('Solar System')\n",
    "plt.legend()\n",
    "plt.grid()\n",
    "fig.tight_layout()\n",
    "#ax.axis('equal')\n",
    "plt.show()"
   ]
  },
  {
   "cell_type": "code",
   "execution_count": null,
   "metadata": {},
   "outputs": [],
   "source": []
  }
 ],
 "metadata": {
  "kernelspec": {
   "display_name": "Python 3",
   "language": "python",
   "name": "python3"
  },
  "language_info": {
   "codemirror_mode": {
    "name": "ipython",
    "version": 3
   },
   "file_extension": ".py",
   "mimetype": "text/x-python",
   "name": "python",
   "nbconvert_exporter": "python",
   "pygments_lexer": "ipython3",
   "version": "3.7.4"
  }
 },
 "nbformat": 4,
 "nbformat_minor": 2
}
